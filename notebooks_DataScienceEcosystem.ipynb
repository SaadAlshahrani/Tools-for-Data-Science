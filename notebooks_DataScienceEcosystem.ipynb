{
  "metadata": {
    "kernelspec": {
      "name": "python",
      "display_name": "Python (Pyodide)",
      "language": "python"
    },
    "language_info": {
      "codemirror_mode": {
        "name": "python",
        "version": 3
      },
      "file_extension": ".py",
      "mimetype": "text/x-python",
      "name": "python",
      "nbconvert_exporter": "python",
      "pygments_lexer": "ipython3",
      "version": "3.8"
    }
  },
  "nbformat_minor": 5,
  "nbformat": 4,
  "cells": [
    {
      "cell_type": "markdown",
      "source": "# Data Science Tools and Ecosystem",
      "metadata": {},
      "id": "401c4371-1928-463b-befc-7f53401814dc"
    },
    {
      "cell_type": "markdown",
      "source": "In this notebook, Data Science Tools and Ecosystem are summarized.",
      "metadata": {},
      "id": "75b43337-2079-492f-818f-1d5c2c4001cf"
    },
    {
      "cell_type": "markdown",
      "source": "**Objectives**\n- Popular Programming Languages\n- Common Data Science Libraries\n- Data Science Tools\n- Examples of Evaluating Expressions",
      "metadata": {},
      "id": "d281f7ac-51b8-46ca-a546-6fabc8505b7e"
    },
    {
      "cell_type": "markdown",
      "source": "Some of the popular languages that Data Scientists use are:\n1. Python\n2. R\n3. Java\n4. C/C++",
      "metadata": {},
      "id": "3a44276e-3dd3-4645-a718-f1c6c66538b9"
    },
    {
      "cell_type": "markdown",
      "source": "Some of the commonly used libraries used by Data Scientists include:\n1. Pandas\n2. Numpy\n3. Sci-Kit Learn\n4. Seaborn",
      "metadata": {},
      "id": "af4ba3a9-70ef-4847-a63e-7ef62aca922a"
    },
    {
      "cell_type": "markdown",
      "source": "| Data Science Tools |\n| ------------------ |\n| Jupyter Notebook   |\n| Julia              |\n| D3.js              |",
      "metadata": {},
      "id": "c12bdeea-c83b-42d9-ae36-691e1da51ddd"
    },
    {
      "cell_type": "markdown",
      "source": "### Below are a few examples of evaluating arithmetic expressions in Python",
      "metadata": {},
      "id": "a95ae402-eb2d-4646-b2b1-2fad68c554b6"
    },
    {
      "cell_type": "code",
      "source": "# This a simple arithmetic expression to mutiply then add integers\n\n(3*4)+5",
      "metadata": {
        "trusted": true
      },
      "execution_count": 3,
      "outputs": [
        {
          "execution_count": 3,
          "output_type": "execute_result",
          "data": {
            "text/plain": "17"
          },
          "metadata": {}
        }
      ],
      "id": "e899619f-380f-4c19-b85e-46c72acdb0df"
    },
    {
      "cell_type": "code",
      "source": "# This will convert 200 minutes to hours by diving by 60\n\n200 / 60",
      "metadata": {
        "trusted": true
      },
      "execution_count": 7,
      "outputs": [
        {
          "execution_count": 7,
          "output_type": "execute_result",
          "data": {
            "text/plain": "3.3333333333333335"
          },
          "metadata": {}
        }
      ],
      "id": "9146f223-aa83-42c5-8d1e-4b6ce84667ef"
    },
    {
      "cell_type": "markdown",
      "source": "## Author\nSaad Alshahrani",
      "metadata": {},
      "id": "bf79758a-cf93-42b5-9ef4-097e7b517a43"
    }
  ]
}